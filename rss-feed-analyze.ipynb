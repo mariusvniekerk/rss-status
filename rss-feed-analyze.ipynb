{
 "nbformat": 4,
 "nbformat_minor": 2,
 "metadata": {
  "language_info": {
   "name": "python",
   "codemirror_mode": {
    "name": "ipython",
    "version": 3
   },
   "version": "3.7.3"
  },
  "orig_nbformat": 2,
  "file_extension": ".py",
  "mimetype": "text/x-python",
  "name": "python",
  "npconvert_exporter": "python",
  "pygments_lexer": "ipython3",
  "version": 3
 },
 "cells": [
  {
   "cell_type": "code",
   "execution_count": 2,
   "metadata": {},
   "outputs": [],
   "source": [
    "import requests\n",
    "import pandas as pd\n",
    "import sys\n",
    "import lxml.etree as et"
   ]
  },
  {
   "cell_type": "code",
   "execution_count": 3,
   "metadata": {},
   "outputs": [],
   "source": [
    "rss_url = 'https://conda-static.anaconda.org/conda-forge/rss.xml'"
   ]
  },
  {
   "cell_type": "code",
   "execution_count": 4,
   "metadata": {},
   "outputs": [
    {
     "data": {
      "text/plain": "<Element rss at 0x7d3d86ae1108>"
     },
     "execution_count": 4,
     "metadata": {},
     "output_type": "execute_result"
    }
   ],
   "source": [
    "res = requests.get(rss_url)\n",
    "tree = et.fromstring(res.content)\n",
    "tree"
   ]
  },
  {
   "cell_type": "code",
   "execution_count": 5,
   "metadata": {},
   "outputs": [],
   "source": [
    "channel_info = tree.getchildren()[0]"
   ]
  },
  {
   "cell_type": "code",
   "execution_count": 6,
   "metadata": {},
   "outputs": [],
   "source": [
    "info_lines = channel_info.getchildren()"
   ]
  },
  {
   "cell_type": "code",
   "execution_count": 7,
   "metadata": {},
   "outputs": [],
   "source": [
    "pkgs = []\n",
    "for line in info_lines:\n",
    "    if line.tag == 'item':\n",
    "        title, pubdate = line.getchildren()\n",
    "        if title.text == 'running sync':\n",
    "            continue\n",
    "        pkgs.append({\n",
    "            'artifact': title.text,\n",
    "            'pubdate': pubdate.text,\n",
    "        })"
   ]
  },
  {
   "cell_type": "code",
   "execution_count": 8,
   "metadata": {},
   "outputs": [],
   "source": [
    "df = pd.DataFrame(pkgs)\n",
    "df.pubdate = pd.to_datetime(df.pubdate)"
   ]
  },
  {
   "cell_type": "code",
   "execution_count": 9,
   "metadata": {},
   "outputs": [
    {
     "data": {
      "text/plain": "Timestamp('2019-11-27 20:29:13+0000', tz='UTC')"
     },
     "execution_count": 9,
     "metadata": {},
     "output_type": "execute_result"
    }
   ],
   "source": [
    "ts = df.pubdate.max()\n",
    "ts"
   ]
  },
  {
   "cell_type": "code",
   "execution_count": 84,
   "metadata": {},
   "outputs": [
    {
     "data": {
      "text/plain": "Timestamp('2019-11-27 15:08:01-0500', tz='US/Eastern')"
     },
     "execution_count": 84,
     "metadata": {},
     "output_type": "execute_result"
    }
   ],
   "source": [
    "ts.tz_convert(\"US/Eastern\")"
   ]
  },
  {
   "cell_type": "code",
   "execution_count": 12,
   "metadata": {},
   "outputs": [
    {
     "data": {
      "text/html": "<style  type=\"text/css\" >\n</style><table id=\"T_d4eb270c_1155_11ea_9895_00163e750d84\" ><thead>    <tr>        <th class=\"blank level0\" ></th>        <th class=\"col_heading level0 col0\" >artifact</th>        <th class=\"col_heading level0 col1\" >pubdate</th>    </tr></thead><tbody>\n                <tr>\n                        <th id=\"T_d4eb270c_1155_11ea_9895_00163e750d84level0_row0\" class=\"row_heading level0 row0\" >31541</th>\n                        <td id=\"T_d4eb270c_1155_11ea_9895_00163e750d84row0_col0\" class=\"data row0 col0\" >noarch:add:json_tricks-3.13.5-py_0.tar.bz2</td>\n                        <td id=\"T_d4eb270c_1155_11ea_9895_00163e750d84row0_col1\" class=\"data row0 col1\" >2019-11-27 20:29:13+00:00</td>\n            </tr>\n            <tr>\n                        <th id=\"T_d4eb270c_1155_11ea_9895_00163e750d84level0_row1\" class=\"row_heading level0 row1\" >31533</th>\n                        <td id=\"T_d4eb270c_1155_11ea_9895_00163e750d84row1_col0\" class=\"data row1 col0\" >linux-64:add:pandoc-2.8.0.1-0.tar.bz2</td>\n                        <td id=\"T_d4eb270c_1155_11ea_9895_00163e750d84row1_col1\" class=\"data row1 col1\" >2019-11-27 20:29:13+00:00</td>\n            </tr>\n            <tr>\n                        <th id=\"T_d4eb270c_1155_11ea_9895_00163e750d84level0_row2\" class=\"row_heading level0 row2\" >31540</th>\n                        <td id=\"T_d4eb270c_1155_11ea_9895_00163e750d84row2_col0\" class=\"data row2 col0\" >osx-64:add:tempest-remap-2.0.2-nompi_hbaa44b6_101.tar.bz2</td>\n                        <td id=\"T_d4eb270c_1155_11ea_9895_00163e750d84row2_col1\" class=\"data row2 col1\" >2019-11-27 20:29:13+00:00</td>\n            </tr>\n            <tr>\n                        <th id=\"T_d4eb270c_1155_11ea_9895_00163e750d84level0_row3\" class=\"row_heading level0 row3\" >31539</th>\n                        <td id=\"T_d4eb270c_1155_11ea_9895_00163e750d84row3_col0\" class=\"data row3 col0\" >osx-64:add:tempest-remap-2.0.2-mpi_openmpi_h735779f_1.tar.bz2</td>\n                        <td id=\"T_d4eb270c_1155_11ea_9895_00163e750d84row3_col1\" class=\"data row3 col1\" >2019-11-27 20:29:13+00:00</td>\n            </tr>\n            <tr>\n                        <th id=\"T_d4eb270c_1155_11ea_9895_00163e750d84level0_row4\" class=\"row_heading level0 row4\" >31538</th>\n                        <td id=\"T_d4eb270c_1155_11ea_9895_00163e750d84row4_col0\" class=\"data row4 col0\" >osx-64:add:tempest-remap-2.0.2-mpi_mpich_haaa0af3_1.tar.bz2</td>\n                        <td id=\"T_d4eb270c_1155_11ea_9895_00163e750d84row4_col1\" class=\"data row4 col1\" >2019-11-27 20:29:13+00:00</td>\n            </tr>\n            <tr>\n                        <th id=\"T_d4eb270c_1155_11ea_9895_00163e750d84level0_row5\" class=\"row_heading level0 row5\" >31537</th>\n                        <td id=\"T_d4eb270c_1155_11ea_9895_00163e750d84row5_col0\" class=\"data row5 col0\" >win-64:add:pandoc-2.8.0.1-0.tar.bz2</td>\n                        <td id=\"T_d4eb270c_1155_11ea_9895_00163e750d84row5_col1\" class=\"data row5 col1\" >2019-11-27 20:29:13+00:00</td>\n            </tr>\n            <tr>\n                        <th id=\"T_d4eb270c_1155_11ea_9895_00163e750d84level0_row6\" class=\"row_heading level0 row6\" >31536</th>\n                        <td id=\"T_d4eb270c_1155_11ea_9895_00163e750d84row6_col0\" class=\"data row6 col0\" >linux-64:add:tempest-remap-2.0.2-nompi_h08eda03_101.tar.bz2</td>\n                        <td id=\"T_d4eb270c_1155_11ea_9895_00163e750d84row6_col1\" class=\"data row6 col1\" >2019-11-27 20:29:13+00:00</td>\n            </tr>\n            <tr>\n                        <th id=\"T_d4eb270c_1155_11ea_9895_00163e750d84level0_row7\" class=\"row_heading level0 row7\" >31535</th>\n                        <td id=\"T_d4eb270c_1155_11ea_9895_00163e750d84row7_col0\" class=\"data row7 col0\" >linux-64:add:tempest-remap-2.0.2-mpi_openmpi_hee0946f_1.tar.bz2</td>\n                        <td id=\"T_d4eb270c_1155_11ea_9895_00163e750d84row7_col1\" class=\"data row7 col1\" >2019-11-27 20:29:13+00:00</td>\n            </tr>\n            <tr>\n                        <th id=\"T_d4eb270c_1155_11ea_9895_00163e750d84level0_row8\" class=\"row_heading level0 row8\" >31534</th>\n                        <td id=\"T_d4eb270c_1155_11ea_9895_00163e750d84row8_col0\" class=\"data row8 col0\" >linux-64:add:tempest-remap-2.0.2-mpi_mpich_ha749ed9_1.tar.bz2</td>\n                        <td id=\"T_d4eb270c_1155_11ea_9895_00163e750d84row8_col1\" class=\"data row8 col1\" >2019-11-27 20:29:13+00:00</td>\n            </tr>\n            <tr>\n                        <th id=\"T_d4eb270c_1155_11ea_9895_00163e750d84level0_row9\" class=\"row_heading level0 row9\" >31532</th>\n                        <td id=\"T_d4eb270c_1155_11ea_9895_00163e750d84row9_col0\" class=\"data row9 col0\" >noarch:add:conda-smithy-3.6.3-py_0.tar.bz2</td>\n                        <td id=\"T_d4eb270c_1155_11ea_9895_00163e750d84row9_col1\" class=\"data row9 col1\" >2019-11-27 20:08:01+00:00</td>\n            </tr>\n            <tr>\n                        <th id=\"T_d4eb270c_1155_11ea_9895_00163e750d84level0_row10\" class=\"row_heading level0 row10\" >31531</th>\n                        <td id=\"T_d4eb270c_1155_11ea_9895_00163e750d84row10_col0\" class=\"data row10 col0\" >noarch:add:kneed-0.5.1-py_0.tar.bz2</td>\n                        <td id=\"T_d4eb270c_1155_11ea_9895_00163e750d84row10_col1\" class=\"data row10 col1\" >2019-11-27 19:47:55+00:00</td>\n            </tr>\n            <tr>\n                        <th id=\"T_d4eb270c_1155_11ea_9895_00163e750d84level0_row11\" class=\"row_heading level0 row11\" >31530</th>\n                        <td id=\"T_d4eb270c_1155_11ea_9895_00163e750d84row11_col0\" class=\"data row11 col0\" >noarch:add:conda-forge-pinning-2019.11.27-0.tar.bz2</td>\n                        <td id=\"T_d4eb270c_1155_11ea_9895_00163e750d84row11_col1\" class=\"data row11 col1\" >2019-11-27 19:47:55+00:00</td>\n            </tr>\n            <tr>\n                        <th id=\"T_d4eb270c_1155_11ea_9895_00163e750d84level0_row12\" class=\"row_heading level0 row12\" >31521</th>\n                        <td id=\"T_d4eb270c_1155_11ea_9895_00163e750d84row12_col0\" class=\"data row12 col0\" >win-64:add:stdlib-list-0.6.0-py36_0.tar.bz2</td>\n                        <td id=\"T_d4eb270c_1155_11ea_9895_00163e750d84row12_col1\" class=\"data row12 col1\" >2019-11-27 19:09:14+00:00</td>\n            </tr>\n            <tr>\n                        <th id=\"T_d4eb270c_1155_11ea_9895_00163e750d84level0_row13\" class=\"row_heading level0 row13\" >31514</th>\n                        <td id=\"T_d4eb270c_1155_11ea_9895_00163e750d84row13_col0\" class=\"data row13 col0\" >linux-64:add:gwsumm-1.0.1-py36_0.tar.bz2</td>\n                        <td id=\"T_d4eb270c_1155_11ea_9895_00163e750d84row13_col1\" class=\"data row13 col1\" >2019-11-27 19:09:14+00:00</td>\n            </tr>\n            <tr>\n                        <th id=\"T_d4eb270c_1155_11ea_9895_00163e750d84level0_row14\" class=\"row_heading level0 row14\" >31515</th>\n                        <td id=\"T_d4eb270c_1155_11ea_9895_00163e750d84row14_col0\" class=\"data row14 col0\" >linux-64:add:gwsumm-1.0.1-py37_0.tar.bz2</td>\n                        <td id=\"T_d4eb270c_1155_11ea_9895_00163e750d84row14_col1\" class=\"data row14 col1\" >2019-11-27 19:09:14+00:00</td>\n            </tr>\n            <tr>\n                        <th id=\"T_d4eb270c_1155_11ea_9895_00163e750d84level0_row15\" class=\"row_heading level0 row15\" >31516</th>\n                        <td id=\"T_d4eb270c_1155_11ea_9895_00163e750d84row15_col0\" class=\"data row15 col0\" >linux-64:add:stdlib-list-0.6.0-py27_0.tar.bz2</td>\n                        <td id=\"T_d4eb270c_1155_11ea_9895_00163e750d84row15_col1\" class=\"data row15 col1\" >2019-11-27 19:09:14+00:00</td>\n            </tr>\n            <tr>\n                        <th id=\"T_d4eb270c_1155_11ea_9895_00163e750d84level0_row16\" class=\"row_heading level0 row16\" >31517</th>\n                        <td id=\"T_d4eb270c_1155_11ea_9895_00163e750d84row16_col0\" class=\"data row16 col0\" >linux-64:add:stdlib-list-0.6.0-py36_0.tar.bz2</td>\n                        <td id=\"T_d4eb270c_1155_11ea_9895_00163e750d84row16_col1\" class=\"data row16 col1\" >2019-11-27 19:09:14+00:00</td>\n            </tr>\n            <tr>\n                        <th id=\"T_d4eb270c_1155_11ea_9895_00163e750d84level0_row17\" class=\"row_heading level0 row17\" >31518</th>\n                        <td id=\"T_d4eb270c_1155_11ea_9895_00163e750d84row17_col0\" class=\"data row17 col0\" >linux-64:add:stdlib-list-0.6.0-py37_0.tar.bz2</td>\n                        <td id=\"T_d4eb270c_1155_11ea_9895_00163e750d84row17_col1\" class=\"data row17 col1\" >2019-11-27 19:09:14+00:00</td>\n            </tr>\n            <tr>\n                        <th id=\"T_d4eb270c_1155_11ea_9895_00163e750d84level0_row18\" class=\"row_heading level0 row18\" >31519</th>\n                        <td id=\"T_d4eb270c_1155_11ea_9895_00163e750d84row18_col0\" class=\"data row18 col0\" >linux-64:add:stdlib-list-0.6.0-py38_0.tar.bz2</td>\n                        <td id=\"T_d4eb270c_1155_11ea_9895_00163e750d84row18_col1\" class=\"data row18 col1\" >2019-11-27 19:09:14+00:00</td>\n            </tr>\n            <tr>\n                        <th id=\"T_d4eb270c_1155_11ea_9895_00163e750d84level0_row19\" class=\"row_heading level0 row19\" >31520</th>\n                        <td id=\"T_d4eb270c_1155_11ea_9895_00163e750d84row19_col0\" class=\"data row19 col0\" >win-64:add:stdlib-list-0.6.0-py27_0.tar.bz2</td>\n                        <td id=\"T_d4eb270c_1155_11ea_9895_00163e750d84row19_col1\" class=\"data row19 col1\" >2019-11-27 19:09:14+00:00</td>\n            </tr>\n            <tr>\n                        <th id=\"T_d4eb270c_1155_11ea_9895_00163e750d84level0_row20\" class=\"row_heading level0 row20\" >31527</th>\n                        <td id=\"T_d4eb270c_1155_11ea_9895_00163e750d84row20_col0\" class=\"data row20 col0\" >osx-64:add:stdlib-list-0.6.0-py37_0.tar.bz2</td>\n                        <td id=\"T_d4eb270c_1155_11ea_9895_00163e750d84row20_col1\" class=\"data row20 col1\" >2019-11-27 19:09:14+00:00</td>\n            </tr>\n            <tr>\n                        <th id=\"T_d4eb270c_1155_11ea_9895_00163e750d84level0_row21\" class=\"row_heading level0 row21\" >31522</th>\n                        <td id=\"T_d4eb270c_1155_11ea_9895_00163e750d84row21_col0\" class=\"data row21 col0\" >win-64:add:stdlib-list-0.6.0-py37_0.tar.bz2</td>\n                        <td id=\"T_d4eb270c_1155_11ea_9895_00163e750d84row21_col1\" class=\"data row21 col1\" >2019-11-27 19:09:14+00:00</td>\n            </tr>\n            <tr>\n                        <th id=\"T_d4eb270c_1155_11ea_9895_00163e750d84level0_row22\" class=\"row_heading level0 row22\" >31523</th>\n                        <td id=\"T_d4eb270c_1155_11ea_9895_00163e750d84row22_col0\" class=\"data row22 col0\" >win-64:add:stdlib-list-0.6.0-py38_0.tar.bz2</td>\n                        <td id=\"T_d4eb270c_1155_11ea_9895_00163e750d84row22_col1\" class=\"data row22 col1\" >2019-11-27 19:09:14+00:00</td>\n            </tr>\n            <tr>\n                        <th id=\"T_d4eb270c_1155_11ea_9895_00163e750d84level0_row23\" class=\"row_heading level0 row23\" >31524</th>\n                        <td id=\"T_d4eb270c_1155_11ea_9895_00163e750d84row23_col0\" class=\"data row23 col0\" >osx-64:add:gwsumm-1.0.1-py36_0.tar.bz2</td>\n                        <td id=\"T_d4eb270c_1155_11ea_9895_00163e750d84row23_col1\" class=\"data row23 col1\" >2019-11-27 19:09:14+00:00</td>\n            </tr>\n            <tr>\n                        <th id=\"T_d4eb270c_1155_11ea_9895_00163e750d84level0_row24\" class=\"row_heading level0 row24\" >31525</th>\n                        <td id=\"T_d4eb270c_1155_11ea_9895_00163e750d84row24_col0\" class=\"data row24 col0\" >osx-64:add:stdlib-list-0.6.0-py27_0.tar.bz2</td>\n                        <td id=\"T_d4eb270c_1155_11ea_9895_00163e750d84row24_col1\" class=\"data row24 col1\" >2019-11-27 19:09:14+00:00</td>\n            </tr>\n            <tr>\n                        <th id=\"T_d4eb270c_1155_11ea_9895_00163e750d84level0_row25\" class=\"row_heading level0 row25\" >31526</th>\n                        <td id=\"T_d4eb270c_1155_11ea_9895_00163e750d84row25_col0\" class=\"data row25 col0\" >osx-64:add:stdlib-list-0.6.0-py36_0.tar.bz2</td>\n                        <td id=\"T_d4eb270c_1155_11ea_9895_00163e750d84row25_col1\" class=\"data row25 col1\" >2019-11-27 19:09:14+00:00</td>\n            </tr>\n            <tr>\n                        <th id=\"T_d4eb270c_1155_11ea_9895_00163e750d84level0_row26\" class=\"row_heading level0 row26\" >31528</th>\n                        <td id=\"T_d4eb270c_1155_11ea_9895_00163e750d84row26_col0\" class=\"data row26 col0\" >osx-64:add:stdlib-list-0.6.0-py38_0.tar.bz2</td>\n                        <td id=\"T_d4eb270c_1155_11ea_9895_00163e750d84row26_col1\" class=\"data row26 col1\" >2019-11-27 19:09:14+00:00</td>\n            </tr>\n            <tr>\n                        <th id=\"T_d4eb270c_1155_11ea_9895_00163e750d84level0_row27\" class=\"row_heading level0 row27\" >31529</th>\n                        <td id=\"T_d4eb270c_1155_11ea_9895_00163e750d84row27_col0\" class=\"data row27 col0\" >noarch:add:fsspec-0.6.1-py_0.tar.bz2</td>\n                        <td id=\"T_d4eb270c_1155_11ea_9895_00163e750d84row27_col1\" class=\"data row27 col1\" >2019-11-27 19:09:14+00:00</td>\n            </tr>\n            <tr>\n                        <th id=\"T_d4eb270c_1155_11ea_9895_00163e750d84level0_row28\" class=\"row_heading level0 row28\" >31511</th>\n                        <td id=\"T_d4eb270c_1155_11ea_9895_00163e750d84row28_col0\" class=\"data row28 col0\" >win-64:add:pycryptodome-3.9.4-py38hfa6e2cd_0.tar.bz2</td>\n                        <td id=\"T_d4eb270c_1155_11ea_9895_00163e750d84row28_col1\" class=\"data row28 col1\" >2019-11-27 18:48:35+00:00</td>\n            </tr>\n            <tr>\n                        <th id=\"T_d4eb270c_1155_11ea_9895_00163e750d84level0_row29\" class=\"row_heading level0 row29\" >31508</th>\n                        <td id=\"T_d4eb270c_1155_11ea_9895_00163e750d84row29_col0\" class=\"data row29 col0\" >win-64:add:pycryptodome-3.9.4-py27h0c8e037_0.tar.bz2</td>\n                        <td id=\"T_d4eb270c_1155_11ea_9895_00163e750d84row29_col1\" class=\"data row29 col1\" >2019-11-27 18:48:35+00:00</td>\n            </tr>\n            <tr>\n                        <th id=\"T_d4eb270c_1155_11ea_9895_00163e750d84level0_row30\" class=\"row_heading level0 row30\" >31510</th>\n                        <td id=\"T_d4eb270c_1155_11ea_9895_00163e750d84row30_col0\" class=\"data row30 col0\" >win-64:add:pycryptodome-3.9.4-py37hfa6e2cd_0.tar.bz2</td>\n                        <td id=\"T_d4eb270c_1155_11ea_9895_00163e750d84row30_col1\" class=\"data row30 col1\" >2019-11-27 18:48:35+00:00</td>\n            </tr>\n            <tr>\n                        <th id=\"T_d4eb270c_1155_11ea_9895_00163e750d84level0_row31\" class=\"row_heading level0 row31\" >31509</th>\n                        <td id=\"T_d4eb270c_1155_11ea_9895_00163e750d84row31_col0\" class=\"data row31 col0\" >win-64:add:pycryptodome-3.9.4-py36hfa6e2cd_0.tar.bz2</td>\n                        <td id=\"T_d4eb270c_1155_11ea_9895_00163e750d84row31_col1\" class=\"data row31 col1\" >2019-11-27 18:48:35+00:00</td>\n            </tr>\n            <tr>\n                        <th id=\"T_d4eb270c_1155_11ea_9895_00163e750d84level0_row32\" class=\"row_heading level0 row32\" >31512</th>\n                        <td id=\"T_d4eb270c_1155_11ea_9895_00163e750d84row32_col0\" class=\"data row32 col0\" >osx-64:add:gwsumm-1.0.1-py37_0.tar.bz2</td>\n                        <td id=\"T_d4eb270c_1155_11ea_9895_00163e750d84row32_col1\" class=\"data row32 col1\" >2019-11-27 18:48:35+00:00</td>\n            </tr>\n            <tr>\n                        <th id=\"T_d4eb270c_1155_11ea_9895_00163e750d84level0_row33\" class=\"row_heading level0 row33\" >31513</th>\n                        <td id=\"T_d4eb270c_1155_11ea_9895_00163e750d84row33_col0\" class=\"data row33 col0\" >noarch:add:tableone-0.6.6-py_0.tar.bz2</td>\n                        <td id=\"T_d4eb270c_1155_11ea_9895_00163e750d84row33_col1\" class=\"data row33 col1\" >2019-11-27 18:48:35+00:00</td>\n            </tr>\n            <tr>\n                        <th id=\"T_d4eb270c_1155_11ea_9895_00163e750d84level0_row34\" class=\"row_heading level0 row34\" >31500</th>\n                        <td id=\"T_d4eb270c_1155_11ea_9895_00163e750d84row34_col0\" class=\"data row34 col0\" >linux-aarch64:add:vispy-0.6.3-py36h44c4346_0.tar.bz2</td>\n                        <td id=\"T_d4eb270c_1155_11ea_9895_00163e750d84row34_col1\" class=\"data row34 col1\" >2019-11-27 18:29:48+00:00</td>\n            </tr>\n            <tr>\n                        <th id=\"T_d4eb270c_1155_11ea_9895_00163e750d84level0_row35\" class=\"row_heading level0 row35\" >31494</th>\n                        <td id=\"T_d4eb270c_1155_11ea_9895_00163e750d84row35_col0\" class=\"data row35 col0\" >linux-64:add:pycryptodome-3.9.4-py36he80fd80_0.tar.bz2</td>\n                        <td id=\"T_d4eb270c_1155_11ea_9895_00163e750d84row35_col1\" class=\"data row35 col1\" >2019-11-27 18:29:48+00:00</td>\n            </tr>\n            <tr>\n                        <th id=\"T_d4eb270c_1155_11ea_9895_00163e750d84level0_row36\" class=\"row_heading level0 row36\" >31495</th>\n                        <td id=\"T_d4eb270c_1155_11ea_9895_00163e750d84row36_col0\" class=\"data row36 col0\" >linux-64:add:pycryptodome-3.9.4-py37he80fd80_0.tar.bz2</td>\n                        <td id=\"T_d4eb270c_1155_11ea_9895_00163e750d84row36_col1\" class=\"data row36 col1\" >2019-11-27 18:29:48+00:00</td>\n            </tr>\n            <tr>\n                        <th id=\"T_d4eb270c_1155_11ea_9895_00163e750d84level0_row37\" class=\"row_heading level0 row37\" >31496</th>\n                        <td id=\"T_d4eb270c_1155_11ea_9895_00163e750d84row37_col0\" class=\"data row37 col0\" >linux-64:add:pycryptodome-3.9.4-py38he80fd80_0.tar.bz2</td>\n                        <td id=\"T_d4eb270c_1155_11ea_9895_00163e750d84row37_col1\" class=\"data row37 col1\" >2019-11-27 18:29:48+00:00</td>\n            </tr>\n            <tr>\n                        <th id=\"T_d4eb270c_1155_11ea_9895_00163e750d84level0_row38\" class=\"row_heading level0 row38\" >31497</th>\n                        <td id=\"T_d4eb270c_1155_11ea_9895_00163e750d84row38_col0\" class=\"data row38 col0\" >linux-ppc64le:add:vispy-0.6.3-py36hdf652f1_0.tar.bz2</td>\n                        <td id=\"T_d4eb270c_1155_11ea_9895_00163e750d84row38_col1\" class=\"data row38 col1\" >2019-11-27 18:29:48+00:00</td>\n            </tr>\n            <tr>\n                        <th id=\"T_d4eb270c_1155_11ea_9895_00163e750d84level0_row39\" class=\"row_heading level0 row39\" >31498</th>\n                        <td id=\"T_d4eb270c_1155_11ea_9895_00163e750d84row39_col0\" class=\"data row39 col0\" >linux-ppc64le:add:vispy-0.6.3-py37hdf652f1_0.tar.bz2</td>\n                        <td id=\"T_d4eb270c_1155_11ea_9895_00163e750d84row39_col1\" class=\"data row39 col1\" >2019-11-27 18:29:48+00:00</td>\n            </tr>\n            <tr>\n                        <th id=\"T_d4eb270c_1155_11ea_9895_00163e750d84level0_row40\" class=\"row_heading level0 row40\" >31499</th>\n                        <td id=\"T_d4eb270c_1155_11ea_9895_00163e750d84row40_col0\" class=\"data row40 col0\" >linux-ppc64le:add:vispy-0.6.3-py38hdf652f1_0.tar.bz2</td>\n                        <td id=\"T_d4eb270c_1155_11ea_9895_00163e750d84row40_col1\" class=\"data row40 col1\" >2019-11-27 18:29:48+00:00</td>\n            </tr>\n            <tr>\n                        <th id=\"T_d4eb270c_1155_11ea_9895_00163e750d84level0_row41\" class=\"row_heading level0 row41\" >31493</th>\n                        <td id=\"T_d4eb270c_1155_11ea_9895_00163e750d84row41_col0\" class=\"data row41 col0\" >linux-64:add:pycryptodome-3.9.4-py27he80fd80_0.tar.bz2</td>\n                        <td id=\"T_d4eb270c_1155_11ea_9895_00163e750d84row41_col1\" class=\"data row41 col1\" >2019-11-27 18:29:48+00:00</td>\n            </tr>\n            <tr>\n                        <th id=\"T_d4eb270c_1155_11ea_9895_00163e750d84level0_row42\" class=\"row_heading level0 row42\" >31501</th>\n                        <td id=\"T_d4eb270c_1155_11ea_9895_00163e750d84row42_col0\" class=\"data row42 col0\" >linux-aarch64:add:vispy-0.6.3-py37h44c4346_0.tar.bz2</td>\n                        <td id=\"T_d4eb270c_1155_11ea_9895_00163e750d84row42_col1\" class=\"data row42 col1\" >2019-11-27 18:29:48+00:00</td>\n            </tr>\n            <tr>\n                        <th id=\"T_d4eb270c_1155_11ea_9895_00163e750d84level0_row43\" class=\"row_heading level0 row43\" >31503</th>\n                        <td id=\"T_d4eb270c_1155_11ea_9895_00163e750d84row43_col0\" class=\"data row43 col0\" >win-64:add:vispy-0.6.3-py27h83e69c8_0.tar.bz2</td>\n                        <td id=\"T_d4eb270c_1155_11ea_9895_00163e750d84row43_col1\" class=\"data row43 col1\" >2019-11-27 18:29:48+00:00</td>\n            </tr>\n            <tr>\n                        <th id=\"T_d4eb270c_1155_11ea_9895_00163e750d84level0_row44\" class=\"row_heading level0 row44\" >31504</th>\n                        <td id=\"T_d4eb270c_1155_11ea_9895_00163e750d84row44_col0\" class=\"data row44 col0\" >osx-64:add:pycryptodome-3.9.4-py27h65ac59c_0.tar.bz2</td>\n                        <td id=\"T_d4eb270c_1155_11ea_9895_00163e750d84row44_col1\" class=\"data row44 col1\" >2019-11-27 18:29:48+00:00</td>\n            </tr>\n            <tr>\n                        <th id=\"T_d4eb270c_1155_11ea_9895_00163e750d84level0_row45\" class=\"row_heading level0 row45\" >31505</th>\n                        <td id=\"T_d4eb270c_1155_11ea_9895_00163e750d84row45_col0\" class=\"data row45 col0\" >osx-64:add:pycryptodome-3.9.4-py36h65ac59c_0.tar.bz2</td>\n                        <td id=\"T_d4eb270c_1155_11ea_9895_00163e750d84row45_col1\" class=\"data row45 col1\" >2019-11-27 18:29:48+00:00</td>\n            </tr>\n            <tr>\n                        <th id=\"T_d4eb270c_1155_11ea_9895_00163e750d84level0_row46\" class=\"row_heading level0 row46\" >31506</th>\n                        <td id=\"T_d4eb270c_1155_11ea_9895_00163e750d84row46_col0\" class=\"data row46 col0\" >osx-64:add:pycryptodome-3.9.4-py37h65ac59c_0.tar.bz2</td>\n                        <td id=\"T_d4eb270c_1155_11ea_9895_00163e750d84row46_col1\" class=\"data row46 col1\" >2019-11-27 18:29:48+00:00</td>\n            </tr>\n            <tr>\n                        <th id=\"T_d4eb270c_1155_11ea_9895_00163e750d84level0_row47\" class=\"row_heading level0 row47\" >31507</th>\n                        <td id=\"T_d4eb270c_1155_11ea_9895_00163e750d84row47_col0\" class=\"data row47 col0\" >osx-64:add:pycryptodome-3.9.4-py38h65ac59c_0.tar.bz2</td>\n                        <td id=\"T_d4eb270c_1155_11ea_9895_00163e750d84row47_col1\" class=\"data row47 col1\" >2019-11-27 18:29:48+00:00</td>\n            </tr>\n            <tr>\n                        <th id=\"T_d4eb270c_1155_11ea_9895_00163e750d84level0_row48\" class=\"row_heading level0 row48\" >31502</th>\n                        <td id=\"T_d4eb270c_1155_11ea_9895_00163e750d84row48_col0\" class=\"data row48 col0\" >linux-aarch64:add:vispy-0.6.3-py38h44c4346_0.tar.bz2</td>\n                        <td id=\"T_d4eb270c_1155_11ea_9895_00163e750d84row48_col1\" class=\"data row48 col1\" >2019-11-27 18:29:48+00:00</td>\n            </tr>\n            <tr>\n                        <th id=\"T_d4eb270c_1155_11ea_9895_00163e750d84level0_row49\" class=\"row_heading level0 row49\" >31466</th>\n                        <td id=\"T_d4eb270c_1155_11ea_9895_00163e750d84row49_col0\" class=\"data row49 col0\" >linux-64:add:vispy-0.6.3-py27hf5ce8a7_0.tar.bz2</td>\n                        <td id=\"T_d4eb270c_1155_11ea_9895_00163e750d84row49_col1\" class=\"data row49 col1\" >2019-11-27 18:08:57+00:00</td>\n            </tr>\n    </tbody></table>",
      "text/plain": "<pandas.io.formats.style.Styler at 0x7d3d850bed68>"
     },
     "execution_count": 12,
     "metadata": {},
     "output_type": "execute_result"
    }
   ],
   "source": [
    "df.sort_values(\"pubdate\", ascending=False).head(50).style"
   ]
  }
 ]
}